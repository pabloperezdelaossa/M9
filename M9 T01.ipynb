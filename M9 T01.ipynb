{
 "cells": [
  {
   "cell_type": "markdown",
   "id": "1e4ed102",
   "metadata": {},
   "source": [
    "## Exercicis d'anàlisi de sentiment i textos.\n",
    "### - Exercici 1\n",
    "\n",
    "Agafa un text en anglès que vulguis, i calcula'n la freqüència de les paraules."
   ]
  },
  {
   "cell_type": "code",
   "execution_count": 1,
   "id": "410a231e",
   "metadata": {},
   "outputs": [],
   "source": [
    "Avatar = \"\"\"\n",
    "Avatar: The Way Of Water Review\n",
    "In the near-decade-and-a-half since we last visited Pandora, the humans in the film have travelled the 4.4 light years back to Earth, regrouped, made the return trip and built a new city-sized base on the alien moon. James Cameron has been about as busy. Besides mapping out a Lord Of The Rings-sized mythology for his burgeoning franchise (frankly we’ve lost count of how many Avatars are percolating in his brain at this point; we think it’s 32?), he’s been pushing technological envelopes left, right and centre, stirring up a mad brew of aquatic performance-capture, 3D tech and amped-up frame rates. The result, Avatar: The Way Of Water, is so dazzling to behold that adjectives like ‘dazzling’ seem too anaemic to apply. It’s a leap beyond even what he pulled off with the first film, a phantasmagorical, fully immersive waking dream of a movie in which something impossible is happening on-screen at almost every moment. It’s a lot to process. And a timely reminder of what cinema is capable of when it dares to dream big.\n",
    "Size is a key factor here — this is a sequel, after all, and the law of movie physics dictates that follow-ups must get increasingly colossal. The Way Of Water ticks this box in several ways. For one, there’s the ensemble of characters. All your old favourites are back (plus Norm Spellman), but making their bow are a group of azure urchins, the children of Neytiri (Zoe Saldaña) and Jake (Sam Worthington). The prospect of a blockbuster driven by kids can be a concerning one; Cameron, though, manages to keep things on the right side of saccharine. Even if none of these younglings are quite as winning as Aliens’ Newt — not even the adopted Spider (Jack Champion), a wild-child human space-sprog who brings her to mind — they’re all easy to root for, which is good news considering the second act of the movie leaves Jake and Neytiri behind to venture out on adventures with the new generation. The titchy Tuktirey (Trinity Jo-Li Bliss) doesn’t get much to do, but there are substantial storylines for Lo’ak (Britain Dalton), who finds a friend in an unlikely place, and Kiri (Sigourney Weaver, a 70-something playing a 14-year-old through VFX magic), the most interesting of the fresh characters, who appears to be getting set up to become a major player in future instalments.\n",
    "Then there’s the new environment. As you’ve probably gleaned by now, Cameron has activated his key mantra — just add water — returning to the ocean for the first time since 1997’s Titanic. Except this isn’t any ocean you’ve seen before. The first time he plunges us beneath the surface of Pandora’s big blue, the brain almost can’t take it all in: the images are crystal-sharp, hyper-real — see it in 3D HFR if you can — but the marine ecosystem teeming in every frame is mesmerisingly unearthly (you might find yourself taking your eyes off the important stuff to stare at an alien eel). It’s like a National Geographic documentary beamed in from another solar system, Cameron’s twin obsessions with sea-life and sci-fi fusing together in truly trippy fashion. The lengthy second act of the movie, in which the Sully family, fleeing the human villains, relocate to the Bora Bora-esque shores of a Pandoran island, will likely test the patience of some. (There are multiple fish-riding tutorials, as the Sullys get familiar with the barracuda-meets-dragonfly Skimwing and the adorable, seal-like Iwi.) But for those willing to tune into the strange and highly earnest vibe, it’s heady, entrancing stuff, particularly the screentime given to the Tulkan, a species of space-whale that proves unexpectedly moving — even if the drama on the beach is a little less compelling than what’s going on off it.\n",
    "Which brings us to the plot. Interestingly, this is the one area in which Cameron has gone smaller. Relatively, of course: with moon-crossing odysseys and beasts the size of a submarine, he’s hardly gone Ken Loach. But the epic warring-species stakes of the original Avatar have been dialled down (for now), replaced by a simple revenge story. Stephen Lang’s granite-tough Colonel Quaritch, a major standout in the first film and a character deepened here, is back in avatar form, eager to avenge his own death (it’s a long story) by slaying his blue foes. And so for now, bigger questions will have to wait. A new resource coveted by humans that’s even more unobtainable than unobtanium doesn’t get elaborated on, while Edie Falco is introduced as the new human Big Bad (yes, Carmela Soprano gets her own exo-suit) but phases out of the action. Instead, we’re left with a stripped-down game of cat-and-mouse, designed to test every one of the Sullys to their limits. It’s an effective choice by Cameron, keeping the stakes clear and resulting in a powerful, emotional final hour, as Quaritch corners his quarry and turns up the heat.\n",
    "The Way Of Water takes its sweet time getting to the melee — at well over three hours, it should really be called ‘The Way Of Wishing You Hadn’t Drunk That Water’ — but by the time it does, it’s made sure you care about what’s going on. And the action, when it arrives, is thunderingly entertaining. On one side: the Na’vi navy, astride battle-fish, ululating and bristling with spears. On the other, Quaritch and his blued-up squad of Marines, plus a swaggering, dickish Australian seadog named Scoresby (Brendan Cowell, near-stealing the show with his salty jargon), a conflicted marine biologist (Jemaine Clement, doing an American accent that might be the most alien thing in the film), and an armada of incredible military tech (scuttling crab-suits FTW). What ensues is a sea battle for the ages, a blisteringly exciting meld of live-action elements and visual-effects, which boggles the brain while never forgetting to focus on the heart. Where Cameron goes from here, who knows. But this is a reminder, after a long absence, that he’s still master and commander of making your jaw drop.\n",
    "\n",
    "\"\"\""
   ]
  },
  {
   "cell_type": "code",
   "execution_count": 2,
   "id": "82e9ce43",
   "metadata": {},
   "outputs": [
    {
     "name": "stdout",
     "output_type": "stream",
     "text": [
      "\n",
      "Avatar: The Way Of Water Review\n",
      "In the near-decade-and-a-half since we last visited Pandora, the humans in the film have travelled the 4.4 light years back to Earth, regrouped, made the return trip and built a new city-sized base on the alien moon. James Cameron has been about as busy. Besides mapping out a Lord Of The Rings-sized mythology for his burgeoning franchise (frankly we’ve lost count of how many Avatars are percolating in his brain at this point; we think it’s 32?), he’s been pushing technological envelopes left, right and centre, stirring up a mad brew of aquatic performance-capture, 3D tech and amped-up frame rates. The result, Avatar: The Way Of Water, is so dazzling to behold that adjectives like ‘dazzling’ seem too anaemic to apply. It’s a leap beyond even what he pulled off with the first film, a phantasmagorical, fully immersive waking dream of a movie in which something impossible is happening on-screen at almost every moment. It’s a lot to process. And a timely reminder of what cinema is capable of when it dares to dream big.\n",
      "Size is a key factor here — this is a sequel, after all, and the law of movie physics dictates that follow-ups must get increasingly colossal. The Way Of Water ticks this box in several ways. For one, there’s the ensemble of characters. All your old favourites are back (plus Norm Spellman), but making their bow are a group of azure urchins, the children of Neytiri (Zoe Saldaña) and Jake (Sam Worthington). The prospect of a blockbuster driven by kids can be a concerning one; Cameron, though, manages to keep things on the right side of saccharine. Even if none of these younglings are quite as winning as Aliens’ Newt — not even the adopted Spider (Jack Champion), a wild-child human space-sprog who brings her to mind — they’re all easy to root for, which is good news considering the second act of the movie leaves Jake and Neytiri behind to venture out on adventures with the new generation. The titchy Tuktirey (Trinity Jo-Li Bliss) doesn’t get much to do, but there are substantial storylines for Lo’ak (Britain Dalton), who finds a friend in an unlikely place, and Kiri (Sigourney Weaver, a 70-something playing a 14-year-old through VFX magic), the most interesting of the fresh characters, who appears to be getting set up to become a major player in future instalments.\n",
      "Then there’s the new environment. As you’ve probably gleaned by now, Cameron has activated his key mantra — just add water — returning to the ocean for the first time since 1997’s Titanic. Except this isn’t any ocean you’ve seen before. The first time he plunges us beneath the surface of Pandora’s big blue, the brain almost can’t take it all in: the images are crystal-sharp, hyper-real — see it in 3D HFR if you can — but the marine ecosystem teeming in every frame is mesmerisingly unearthly (you might find yourself taking your eyes off the important stuff to stare at an alien eel). It’s like a National Geographic documentary beamed in from another solar system, Cameron’s twin obsessions with sea-life and sci-fi fusing together in truly trippy fashion. The lengthy second act of the movie, in which the Sully family, fleeing the human villains, relocate to the Bora Bora-esque shores of a Pandoran island, will likely test the patience of some. (There are multiple fish-riding tutorials, as the Sullys get familiar with the barracuda-meets-dragonfly Skimwing and the adorable, seal-like Iwi.) But for those willing to tune into the strange and highly earnest vibe, it’s heady, entrancing stuff, particularly the screentime given to the Tulkan, a species of space-whale that proves unexpectedly moving — even if the drama on the beach is a little less compelling than what’s going on off it.\n",
      "Which brings us to the plot. Interestingly, this is the one area in which Cameron has gone smaller. Relatively, of course: with moon-crossing odysseys and beasts the size of a submarine, he’s hardly gone Ken Loach. But the epic warring-species stakes of the original Avatar have been dialled down (for now), replaced by a simple revenge story. Stephen Lang’s granite-tough Colonel Quaritch, a major standout in the first film and a character deepened here, is back in avatar form, eager to avenge his own death (it’s a long story) by slaying his blue foes. And so for now, bigger questions will have to wait. A new resource coveted by humans that’s even more unobtainable than unobtanium doesn’t get elaborated on, while Edie Falco is introduced as the new human Big Bad (yes, Carmela Soprano gets her own exo-suit) but phases out of the action. Instead, we’re left with a stripped-down game of cat-and-mouse, designed to test every one of the Sullys to their limits. It’s an effective choice by Cameron, keeping the stakes clear and resulting in a powerful, emotional final hour, as Quaritch corners his quarry and turns up the heat.\n",
      "The Way Of Water takes its sweet time getting to the melee — at well over three hours, it should really be called ‘The Way Of Wishing You Hadn’t Drunk That Water’ — but by the time it does, it’s made sure you care about what’s going on. And the action, when it arrives, is thunderingly entertaining. On one side: the Na’vi navy, astride battle-fish, ululating and bristling with spears. On the other, Quaritch and his blued-up squad of Marines, plus a swaggering, dickish Australian seadog named Scoresby (Brendan Cowell, near-stealing the show with his salty jargon), a conflicted marine biologist (Jemaine Clement, doing an American accent that might be the most alien thing in the film), and an armada of incredible military tech (scuttling crab-suits FTW). What ensues is a sea battle for the ages, a blisteringly exciting meld of live-action elements and visual-effects, which boggles the brain while never forgetting to focus on the heart. Where Cameron goes from here, who knows. But this is a reminder, after a long absence, that he’s still master and commander of making your jaw drop.\n",
      "\n",
      "\n"
     ]
    }
   ],
   "source": [
    "print(Avatar)"
   ]
  },
  {
   "cell_type": "code",
   "execution_count": 3,
   "id": "5e55647f",
   "metadata": {},
   "outputs": [],
   "source": [
    "import nltk"
   ]
  },
  {
   "cell_type": "code",
   "execution_count": 4,
   "id": "562c2940",
   "metadata": {},
   "outputs": [
    {
     "name": "stdout",
     "output_type": "stream",
     "text": [
      "['\\nAvatar: The Way Of Water Review\\nIn the near-decade-and-a-half since we last visited Pandora, the humans in the film have travelled the 4.4 light years back to Earth, regrouped, made the return trip and built a new city-sized base on the alien moon.', 'James Cameron has been about as busy.', 'Besides mapping out a Lord Of The Rings-sized mythology for his burgeoning franchise (frankly we’ve lost count of how many Avatars are percolating in his brain at this point; we think it’s 32?', '), he’s been pushing technological envelopes left, right and centre, stirring up a mad brew of aquatic performance-capture, 3D tech and amped-up frame rates.', 'The result, Avatar: The Way Of Water, is so dazzling to behold that adjectives like ‘dazzling’ seem too anaemic to apply.', 'It’s a leap beyond even what he pulled off with the first film, a phantasmagorical, fully immersive waking dream of a movie in which something impossible is happening on-screen at almost every moment.', 'It’s a lot to process.', 'And a timely reminder of what cinema is capable of when it dares to dream big.', 'Size is a key factor here — this is a sequel, after all, and the law of movie physics dictates that follow-ups must get increasingly colossal.', 'The Way Of Water ticks this box in several ways.', 'For one, there’s the ensemble of characters.', 'All your old favourites are back (plus Norm Spellman), but making their bow are a group of azure urchins, the children of Neytiri (Zoe Saldaña) and Jake (Sam Worthington).', 'The prospect of a blockbuster driven by kids can be a concerning one; Cameron, though, manages to keep things on the right side of saccharine.', 'Even if none of these younglings are quite as winning as Aliens’ Newt — not even the adopted Spider (Jack Champion), a wild-child human space-sprog who brings her to mind — they’re all easy to root for, which is good news considering the second act of the movie leaves Jake and Neytiri behind to venture out on adventures with the new generation.', 'The titchy Tuktirey (Trinity Jo-Li Bliss) doesn’t get much to do, but there are substantial storylines for Lo’ak (Britain Dalton), who finds a friend in an unlikely place, and Kiri (Sigourney Weaver, a 70-something playing a 14-year-old through VFX magic), the most interesting of the fresh characters, who appears to be getting set up to become a major player in future instalments.', 'Then there’s the new environment.', 'As you’ve probably gleaned by now, Cameron has activated his key mantra — just add water — returning to the ocean for the first time since 1997’s Titanic.', 'Except this isn’t any ocean you’ve seen before.', 'The first time he plunges us beneath the surface of Pandora’s big blue, the brain almost can’t take it all in: the images are crystal-sharp, hyper-real — see it in 3D HFR if you can — but the marine ecosystem teeming in every frame is mesmerisingly unearthly (you might find yourself taking your eyes off the important stuff to stare at an alien eel).', 'It’s like a National Geographic documentary beamed in from another solar system, Cameron’s twin obsessions with sea-life and sci-fi fusing together in truly trippy fashion.', 'The lengthy second act of the movie, in which the Sully family, fleeing the human villains, relocate to the Bora Bora-esque shores of a Pandoran island, will likely test the patience of some.', '(There are multiple fish-riding tutorials, as the Sullys get familiar with the barracuda-meets-dragonfly Skimwing and the adorable, seal-like Iwi.)', 'But for those willing to tune into the strange and highly earnest vibe, it’s heady, entrancing stuff, particularly the screentime given to the Tulkan, a species of space-whale that proves unexpectedly moving — even if the drama on the beach is a little less compelling than what’s going on off it.', 'Which brings us to the plot.', 'Interestingly, this is the one area in which Cameron has gone smaller.', 'Relatively, of course: with moon-crossing odysseys and beasts the size of a submarine, he’s hardly gone Ken Loach.', 'But the epic warring-species stakes of the original Avatar have been dialled down (for now), replaced by a simple revenge story.', 'Stephen Lang’s granite-tough Colonel Quaritch, a major standout in the first film and a character deepened here, is back in avatar form, eager to avenge his own death (it’s a long story) by slaying his blue foes.', 'And so for now, bigger questions will have to wait.', 'A new resource coveted by humans that’s even more unobtainable than unobtanium doesn’t get elaborated on, while Edie Falco is introduced as the new human Big Bad (yes, Carmela Soprano gets her own exo-suit) but phases out of the action.', 'Instead, we’re left with a stripped-down game of cat-and-mouse, designed to test every one of the Sullys to their limits.', 'It’s an effective choice by Cameron, keeping the stakes clear and resulting in a powerful, emotional final hour, as Quaritch corners his quarry and turns up the heat.', 'The Way Of Water takes its sweet time getting to the melee — at well over three hours, it should really be called ‘The Way Of Wishing You Hadn’t Drunk That Water’ — but by the time it does, it’s made sure you care about what’s going on.', 'And the action, when it arrives, is thunderingly entertaining.', 'On one side: the Na’vi navy, astride battle-fish, ululating and bristling with spears.', 'On the other, Quaritch and his blued-up squad of Marines, plus a swaggering, dickish Australian seadog named Scoresby (Brendan Cowell, near-stealing the show with his salty jargon), a conflicted marine biologist (Jemaine Clement, doing an American accent that might be the most alien thing in the film), and an armada of incredible military tech (scuttling crab-suits FTW).', 'What ensues is a sea battle for the ages, a blisteringly exciting meld of live-action elements and visual-effects, which boggles the brain while never forgetting to focus on the heart.', 'Where Cameron goes from here, who knows.', 'But this is a reminder, after a long absence, that he’s still master and commander of making your jaw drop.']\n"
     ]
    }
   ],
   "source": [
    "# Fem la sentence tokenització (separar cada frase en un ítem d'una llista)\n",
    "\n",
    "from nltk.tokenize import sent_tokenize\n",
    "\n",
    "tokenized_sent_avatar = sent_tokenize(Avatar)\n",
    "print(tokenized_sent_avatar)"
   ]
  },
  {
   "cell_type": "code",
   "execution_count": 5,
   "id": "9bfd8b39",
   "metadata": {},
   "outputs": [
    {
     "name": "stdout",
     "output_type": "stream",
     "text": [
      "['Avatar', ':', 'The', 'Way', 'Of', 'Water', 'Review', 'In', 'the', 'near-decade-and-a-half', 'since', 'we', 'last', 'visited', 'Pandora', ',', 'the', 'humans', 'in', 'the', 'film', 'have', 'travelled', 'the', '4.4', 'light', 'years', 'back', 'to', 'Earth', ',', 'regrouped', ',', 'made', 'the', 'return', 'trip', 'and', 'built', 'a', 'new', 'city-sized', 'base', 'on', 'the', 'alien', 'moon', '.', 'James', 'Cameron', 'has', 'been', 'about', 'as', 'busy', '.', 'Besides', 'mapping', 'out', 'a', 'Lord', 'Of', 'The', 'Rings-sized', 'mythology', 'for', 'his', 'burgeoning', 'franchise', '(', 'frankly', 'we', '’', 've', 'lost', 'count', 'of', 'how', 'many', 'Avatars', 'are', 'percolating', 'in', 'his', 'brain', 'at', 'this', 'point', ';', 'we', 'think', 'it', '’', 's', '32', '?', ')', ',', 'he', '’', 's', 'been', 'pushing', 'technological', 'envelopes', 'left', ',', 'right', 'and', 'centre', ',', 'stirring', 'up', 'a', 'mad', 'brew', 'of', 'aquatic', 'performance-capture', ',', '3D', 'tech', 'and', 'amped-up', 'frame', 'rates', '.', 'The', 'result', ',', 'Avatar', ':', 'The', 'Way', 'Of', 'Water', ',', 'is', 'so', 'dazzling', 'to', 'behold', 'that', 'adjectives', 'like', '‘', 'dazzling', '’', 'seem', 'too', 'anaemic', 'to', 'apply', '.', 'It', '’', 's', 'a', 'leap', 'beyond', 'even', 'what', 'he', 'pulled', 'off', 'with', 'the', 'first', 'film', ',', 'a', 'phantasmagorical', ',', 'fully', 'immersive', 'waking', 'dream', 'of', 'a', 'movie', 'in', 'which', 'something', 'impossible', 'is', 'happening', 'on-screen', 'at', 'almost', 'every', 'moment', '.', 'It', '’', 's', 'a', 'lot', 'to', 'process', '.', 'And', 'a', 'timely', 'reminder', 'of', 'what', 'cinema', 'is', 'capable', 'of', 'when', 'it', 'dares', 'to', 'dream', 'big', '.', 'Size', 'is', 'a', 'key', 'factor', 'here', '—', 'this', 'is', 'a', 'sequel', ',', 'after', 'all', ',', 'and', 'the', 'law', 'of', 'movie', 'physics', 'dictates', 'that', 'follow-ups', 'must', 'get', 'increasingly', 'colossal', '.', 'The', 'Way', 'Of', 'Water', 'ticks', 'this', 'box', 'in', 'several', 'ways', '.', 'For', 'one', ',', 'there', '’', 's', 'the', 'ensemble', 'of', 'characters', '.', 'All', 'your', 'old', 'favourites', 'are', 'back', '(', 'plus', 'Norm', 'Spellman', ')', ',', 'but', 'making', 'their', 'bow', 'are', 'a', 'group', 'of', 'azure', 'urchins', ',', 'the', 'children', 'of', 'Neytiri', '(', 'Zoe', 'Saldaña', ')', 'and', 'Jake', '(', 'Sam', 'Worthington', ')', '.', 'The', 'prospect', 'of', 'a', 'blockbuster', 'driven', 'by', 'kids', 'can', 'be', 'a', 'concerning', 'one', ';', 'Cameron', ',', 'though', ',', 'manages', 'to', 'keep', 'things', 'on', 'the', 'right', 'side', 'of', 'saccharine', '.', 'Even', 'if', 'none', 'of', 'these', 'younglings', 'are', 'quite', 'as', 'winning', 'as', 'Aliens', '’', 'Newt', '—', 'not', 'even', 'the', 'adopted', 'Spider', '(', 'Jack', 'Champion', ')', ',', 'a', 'wild-child', 'human', 'space-sprog', 'who', 'brings', 'her', 'to', 'mind', '—', 'they', '’', 're', 'all', 'easy', 'to', 'root', 'for', ',', 'which', 'is', 'good', 'news', 'considering', 'the', 'second', 'act', 'of', 'the', 'movie', 'leaves', 'Jake', 'and', 'Neytiri', 'behind', 'to', 'venture', 'out', 'on', 'adventures', 'with', 'the', 'new', 'generation', '.', 'The', 'titchy', 'Tuktirey', '(', 'Trinity', 'Jo-Li', 'Bliss', ')', 'doesn', '’', 't', 'get', 'much', 'to', 'do', ',', 'but', 'there', 'are', 'substantial', 'storylines', 'for', 'Lo', '’', 'ak', '(', 'Britain', 'Dalton', ')', ',', 'who', 'finds', 'a', 'friend', 'in', 'an', 'unlikely', 'place', ',', 'and', 'Kiri', '(', 'Sigourney', 'Weaver', ',', 'a', '70-something', 'playing', 'a', '14-year-old', 'through', 'VFX', 'magic', ')', ',', 'the', 'most', 'interesting', 'of', 'the', 'fresh', 'characters', ',', 'who', 'appears', 'to', 'be', 'getting', 'set', 'up', 'to', 'become', 'a', 'major', 'player', 'in', 'future', 'instalments', '.', 'Then', 'there', '’', 's', 'the', 'new', 'environment', '.', 'As', 'you', '’', 've', 'probably', 'gleaned', 'by', 'now', ',', 'Cameron', 'has', 'activated', 'his', 'key', 'mantra', '—', 'just', 'add', 'water', '—', 'returning', 'to', 'the', 'ocean', 'for', 'the', 'first', 'time', 'since', '1997', '’', 's', 'Titanic', '.', 'Except', 'this', 'isn', '’', 't', 'any', 'ocean', 'you', '’', 've', 'seen', 'before', '.', 'The', 'first', 'time', 'he', 'plunges', 'us', 'beneath', 'the', 'surface', 'of', 'Pandora', '’', 's', 'big', 'blue', ',', 'the', 'brain', 'almost', 'can', '’', 't', 'take', 'it', 'all', 'in', ':', 'the', 'images', 'are', 'crystal-sharp', ',', 'hyper-real', '—', 'see', 'it', 'in', '3D', 'HFR', 'if', 'you', 'can', '—', 'but', 'the', 'marine', 'ecosystem', 'teeming', 'in', 'every', 'frame', 'is', 'mesmerisingly', 'unearthly', '(', 'you', 'might', 'find', 'yourself', 'taking', 'your', 'eyes', 'off', 'the', 'important', 'stuff', 'to', 'stare', 'at', 'an', 'alien', 'eel', ')', '.', 'It', '’', 's', 'like', 'a', 'National', 'Geographic', 'documentary', 'beamed', 'in', 'from', 'another', 'solar', 'system', ',', 'Cameron', '’', 's', 'twin', 'obsessions', 'with', 'sea-life', 'and', 'sci-fi', 'fusing', 'together', 'in', 'truly', 'trippy', 'fashion', '.', 'The', 'lengthy', 'second', 'act', 'of', 'the', 'movie', ',', 'in', 'which', 'the', 'Sully', 'family', ',', 'fleeing', 'the', 'human', 'villains', ',', 'relocate', 'to', 'the', 'Bora', 'Bora-esque', 'shores', 'of', 'a', 'Pandoran', 'island', ',', 'will', 'likely', 'test', 'the', 'patience', 'of', 'some', '.', '(', 'There', 'are', 'multiple', 'fish-riding', 'tutorials', ',', 'as', 'the', 'Sullys', 'get', 'familiar', 'with', 'the', 'barracuda-meets-dragonfly', 'Skimwing', 'and', 'the', 'adorable', ',', 'seal-like', 'Iwi', '.', ')', 'But', 'for', 'those', 'willing', 'to', 'tune', 'into', 'the', 'strange', 'and', 'highly', 'earnest', 'vibe', ',', 'it', '’', 's', 'heady', ',', 'entrancing', 'stuff', ',', 'particularly', 'the', 'screentime', 'given', 'to', 'the', 'Tulkan', ',', 'a', 'species', 'of', 'space-whale', 'that', 'proves', 'unexpectedly', 'moving', '—', 'even', 'if', 'the', 'drama', 'on', 'the', 'beach', 'is', 'a', 'little', 'less', 'compelling', 'than', 'what', '’', 's', 'going', 'on', 'off', 'it', '.', 'Which', 'brings', 'us', 'to', 'the', 'plot', '.', 'Interestingly', ',', 'this', 'is', 'the', 'one', 'area', 'in', 'which', 'Cameron', 'has', 'gone', 'smaller', '.', 'Relatively', ',', 'of', 'course', ':', 'with', 'moon-crossing', 'odysseys', 'and', 'beasts', 'the', 'size', 'of', 'a', 'submarine', ',', 'he', '’', 's', 'hardly', 'gone', 'Ken', 'Loach', '.', 'But', 'the', 'epic', 'warring-species', 'stakes', 'of', 'the', 'original', 'Avatar', 'have', 'been', 'dialled', 'down', '(', 'for', 'now', ')', ',', 'replaced', 'by', 'a', 'simple', 'revenge', 'story', '.', 'Stephen', 'Lang', '’', 's', 'granite-tough', 'Colonel', 'Quaritch', ',', 'a', 'major', 'standout', 'in', 'the', 'first', 'film', 'and', 'a', 'character', 'deepened', 'here', ',', 'is', 'back', 'in', 'avatar', 'form', ',', 'eager', 'to', 'avenge', 'his', 'own', 'death', '(', 'it', '’', 's', 'a', 'long', 'story', ')', 'by', 'slaying', 'his', 'blue', 'foes', '.', 'And', 'so', 'for', 'now', ',', 'bigger', 'questions', 'will', 'have', 'to', 'wait', '.', 'A', 'new', 'resource', 'coveted', 'by', 'humans', 'that', '’', 's', 'even', 'more', 'unobtainable', 'than', 'unobtanium', 'doesn', '’', 't', 'get', 'elaborated', 'on', ',', 'while', 'Edie', 'Falco', 'is', 'introduced', 'as', 'the', 'new', 'human', 'Big', 'Bad', '(', 'yes', ',', 'Carmela', 'Soprano', 'gets', 'her', 'own', 'exo-suit', ')', 'but', 'phases', 'out', 'of', 'the', 'action', '.', 'Instead', ',', 'we', '’', 're', 'left', 'with', 'a', 'stripped-down', 'game', 'of', 'cat-and-mouse', ',', 'designed', 'to', 'test', 'every', 'one', 'of', 'the', 'Sullys', 'to', 'their', 'limits', '.', 'It', '’', 's', 'an', 'effective', 'choice', 'by', 'Cameron', ',', 'keeping', 'the', 'stakes', 'clear', 'and', 'resulting', 'in', 'a', 'powerful', ',', 'emotional', 'final', 'hour', ',', 'as', 'Quaritch', 'corners', 'his', 'quarry', 'and', 'turns', 'up', 'the', 'heat', '.', 'The', 'Way', 'Of', 'Water', 'takes', 'its', 'sweet', 'time', 'getting', 'to', 'the', 'melee', '—', 'at', 'well', 'over', 'three', 'hours', ',', 'it', 'should', 'really', 'be', 'called', '‘', 'The', 'Way', 'Of', 'Wishing', 'You', 'Hadn', '’', 't', 'Drunk', 'That', 'Water', '’', '—', 'but', 'by', 'the', 'time', 'it', 'does', ',', 'it', '’', 's', 'made', 'sure', 'you', 'care', 'about', 'what', '’', 's', 'going', 'on', '.', 'And', 'the', 'action', ',', 'when', 'it', 'arrives', ',', 'is', 'thunderingly', 'entertaining', '.', 'On', 'one', 'side', ':', 'the', 'Na', '’', 'vi', 'navy', ',', 'astride', 'battle-fish', ',', 'ululating', 'and', 'bristling', 'with', 'spears', '.', 'On', 'the', 'other', ',', 'Quaritch', 'and', 'his', 'blued-up', 'squad', 'of', 'Marines', ',', 'plus', 'a', 'swaggering', ',', 'dickish', 'Australian', 'seadog', 'named', 'Scoresby', '(', 'Brendan', 'Cowell', ',', 'near-stealing', 'the', 'show', 'with', 'his', 'salty', 'jargon', ')', ',', 'a', 'conflicted', 'marine', 'biologist', '(', 'Jemaine', 'Clement', ',', 'doing', 'an', 'American', 'accent', 'that', 'might', 'be', 'the', 'most', 'alien', 'thing', 'in', 'the', 'film', ')', ',', 'and', 'an', 'armada', 'of', 'incredible', 'military', 'tech', '(', 'scuttling', 'crab-suits', 'FTW', ')', '.', 'What', 'ensues', 'is', 'a', 'sea', 'battle', 'for', 'the', 'ages', ',', 'a', 'blisteringly', 'exciting', 'meld', 'of', 'live-action', 'elements', 'and', 'visual-effects', ',', 'which', 'boggles', 'the', 'brain', 'while', 'never', 'forgetting', 'to', 'focus', 'on', 'the', 'heart', '.', 'Where', 'Cameron', 'goes', 'from', 'here', ',', 'who', 'knows', '.', 'But', 'this', 'is', 'a', 'reminder', ',', 'after', 'a', 'long', 'absence', ',', 'that', 'he', '’', 's', 'still', 'master', 'and', 'commander', 'of', 'making', 'your', 'jaw', 'drop', '.']\n"
     ]
    }
   ],
   "source": [
    "# fem la word tokenització (convertir cada paraula en un ítem de la llista)\n",
    "\n",
    "from nltk.tokenize import word_tokenize\n",
    "\n",
    "tokenized_word_avatar = word_tokenize(Avatar)\n",
    "print(tokenized_word_avatar)"
   ]
  },
  {
   "cell_type": "code",
   "execution_count": 6,
   "id": "14756845",
   "metadata": {},
   "outputs": [
    {
     "name": "stdout",
     "output_type": "stream",
     "text": [
      "<FreqDist with 569 samples and 1231 outcomes>\n"
     ]
    }
   ],
   "source": [
    "# Calculem la frequencia de les paraules\n",
    "\n",
    "from nltk.probability import FreqDist\n",
    "\n",
    "fdist_avatar = FreqDist(tokenized_word_avatar)\n",
    "print(fdist_avatar)"
   ]
  },
  {
   "cell_type": "code",
   "execution_count": 7,
   "id": "548fb0f5",
   "metadata": {},
   "outputs": [
    {
     "data": {
      "text/plain": [
       "[(',', 73),\n",
       " ('the', 60),\n",
       " ('.', 38),\n",
       " ('a', 35),\n",
       " ('’', 35),\n",
       " ('of', 29),\n",
       " ('to', 24),\n",
       " ('s', 20),\n",
       " ('and', 19),\n",
       " ('in', 17)]"
      ]
     },
     "execution_count": 7,
     "metadata": {},
     "output_type": "execute_result"
    }
   ],
   "source": [
    "# Mostrem les 10 més frequents\n",
    "\n",
    "fdist_avatar.most_common(10)"
   ]
  },
  {
   "cell_type": "code",
   "execution_count": 8,
   "id": "6e62149c",
   "metadata": {
    "scrolled": true
   },
   "outputs": [
    {
     "data": {
      "image/png": "[encoded data removed]",
      "text/plain": [
       "<Figure size 432x288 with 1 Axes>"
      ]
     },
     "metadata": {
      "needs_background": "light"
     },
     "output_type": "display_data"
    }
   ],
   "source": [
    "# Gràfic de distribució de frequencies\n",
    "import matplotlib.pyplot as plt\n",
    "\n",
    "fdist_avatar.plot(30, cumulative=False)\n",
    "plt.show()"
   ]
  },
  {
   "cell_type": "markdown",
   "id": "edebe9cd",
   "metadata": {},
   "source": [
    "### - Exercici 2\n",
    "\n",
    "Treu les stopwords i realitza stemming al teu conjunt de dades."
   ]
  },
  {
   "cell_type": "code",
   "execution_count": 9,
   "id": "5a4c0ecc",
   "metadata": {
    "scrolled": true
   },
   "outputs": [
    {
     "name": "stdout",
     "output_type": "stream",
     "text": [
      "{'on', 'your', 'shouldn', 've', 'below', \"don't\", 'a', 'has', \"should've\", 'couldn', \"you're\", 'did', 'some', \"haven't\", 't', 'i', 'doing', 'against', 'can', 'ours', \"didn't\", 'why', \"wouldn't\", 'those', 'while', 'am', \"hasn't\", 'haven', 'only', 'shan', 'themselves', 'as', \"it's\", 'then', 'didn', 'both', 'between', 'whom', 'which', 'aren', 'down', 'own', 'herself', \"hadn't\", \"needn't\", 'and', 'hers', 'out', 'again', 'through', 'here', 'now', 'll', \"isn't\", 'ma', 'wasn', 'y', 'him', 'just', 'very', 'he', 'himself', \"shan't\", 'these', 'so', 'd', 'was', \"shouldn't\", 'me', 'will', 'because', 'isn', 'doesn', 's', \"couldn't\", 'how', 'to', \"mightn't\", 'each', 'until', \"won't\", 'weren', 'nor', 'are', 'we', 'needn', \"aren't\", 'their', 'such', 'myself', 'who', 'of', 'ourselves', 'over', 'any', 'should', \"doesn't\", 'for', 'most', 'have', 're', 'yours', 'don', 'hasn', \"you've\", 'but', 'there', 'you', 'm', 'at', 'before', 'having', 'if', \"weren't\", \"wasn't\", 'our', 'had', 'its', 'same', 'after', 'all', 'them', 'ain', 'being', 'when', \"you'll\", \"you'd\", 'more', 'won', 'above', 'wouldn', 'up', 'with', 'by', 'about', 'be', 'his', 'off', 'my', 'yourselves', 'under', 'where', 'is', 'too', 'she', 'further', 'do', 'they', 'mightn', 'it', 'than', 'the', 'were', 'not', 'no', 'itself', 'theirs', \"mustn't\", \"she's\", 'few', 'that', 'what', 'this', 'or', 'once', 'an', 'during', 'other', 'hadn', 'does', 'been', 'o', 'yourself', 'from', 'her', \"that'll\", 'into', 'in', 'mustn'}\n"
     ]
    }
   ],
   "source": [
    "# Carreguem les stopwords comunes en anglès\n",
    "\n",
    "from nltk.corpus import stopwords\n",
    "\n",
    "stop_words = set(stopwords.words(\"english\"))\n",
    "print(stop_words)"
   ]
  },
  {
   "cell_type": "code",
   "execution_count": 10,
   "id": "8355f69a",
   "metadata": {
    "scrolled": false
   },
   "outputs": [
    {
     "name": "stdout",
     "output_type": "stream",
     "text": [
      "Filterd Sentence: ['Avatar', ':', 'The', 'Way', 'Of', 'Water', 'Review', 'In', 'near-decade-and-a-half', 'since', 'last', 'visited', 'Pandora', ',', 'humans', 'film', 'travelled', '4.4', 'light', 'years', 'back', 'Earth', ',', 'regrouped', ',', 'made', 'return', 'trip', 'built', 'new', 'city-sized', 'base', 'alien', 'moon', '.', 'James', 'Cameron', 'busy', '.', 'Besides', 'mapping', 'Lord', 'Of', 'The', 'Rings-sized', 'mythology', 'burgeoning', 'franchise', '(', 'frankly', '’', 'lost', 'count', 'many', 'Avatars', 'percolating', 'brain', 'point', ';', 'think', '’', '32', '?', ')', ',', '’', 'pushing', 'technological', 'envelopes', 'left', ',', 'right', 'centre', ',', 'stirring', 'mad', 'brew', 'aquatic', 'performance-capture', ',', '3D', 'tech', 'amped-up', 'frame', 'rates', '.', 'The', 'result', ',', 'Avatar', ':', 'The', 'Way', 'Of', 'Water', ',', 'dazzling', 'behold', 'adjectives', 'like', '‘', 'dazzling', '’', 'seem', 'anaemic', 'apply', '.', 'It', '’', 'leap', 'beyond', 'even', 'pulled', 'first', 'film', ',', 'phantasmagorical', ',', 'fully', 'immersive', 'waking', 'dream', 'movie', 'something', 'impossible', 'happening', 'on-screen', 'almost', 'every', 'moment', '.', 'It', '’', 'lot', 'process', '.', 'And', 'timely', 'reminder', 'cinema', 'capable', 'dares', 'dream', 'big', '.', 'Size', 'key', 'factor', '—', 'sequel', ',', ',', 'law', 'movie', 'physics', 'dictates', 'follow-ups', 'must', 'get', 'increasingly', 'colossal', '.', 'The', 'Way', 'Of', 'Water', 'ticks', 'box', 'several', 'ways', '.', 'For', 'one', ',', '’', 'ensemble', 'characters', '.', 'All', 'old', 'favourites', 'back', '(', 'plus', 'Norm', 'Spellman', ')', ',', 'making', 'bow', 'group', 'azure', 'urchins', ',', 'children', 'Neytiri', '(', 'Zoe', 'Saldaña', ')', 'Jake', '(', 'Sam', 'Worthington', ')', '.', 'The', 'prospect', 'blockbuster', 'driven', 'kids', 'concerning', 'one', ';', 'Cameron', ',', 'though', ',', 'manages', 'keep', 'things', 'right', 'side', 'saccharine', '.', 'Even', 'none', 'younglings', 'quite', 'winning', 'Aliens', '’', 'Newt', '—', 'even', 'adopted', 'Spider', '(', 'Jack', 'Champion', ')', ',', 'wild-child', 'human', 'space-sprog', 'brings', 'mind', '—', '’', 'easy', 'root', ',', 'good', 'news', 'considering', 'second', 'act', 'movie', 'leaves', 'Jake', 'Neytiri', 'behind', 'venture', 'adventures', 'new', 'generation', '.', 'The', 'titchy', 'Tuktirey', '(', 'Trinity', 'Jo-Li', 'Bliss', ')', '’', 'get', 'much', ',', 'substantial', 'storylines', 'Lo', '’', 'ak', '(', 'Britain', 'Dalton', ')', ',', 'finds', 'friend', 'unlikely', 'place', ',', 'Kiri', '(', 'Sigourney', 'Weaver', ',', '70-something', 'playing', '14-year-old', 'VFX', 'magic', ')', ',', 'interesting', 'fresh', 'characters', ',', 'appears', 'getting', 'set', 'become', 'major', 'player', 'future', 'instalments', '.', 'Then', '’', 'new', 'environment', '.', 'As', '’', 'probably', 'gleaned', ',', 'Cameron', 'activated', 'key', 'mantra', '—', 'add', 'water', '—', 'returning', 'ocean', 'first', 'time', 'since', '1997', '’', 'Titanic', '.', 'Except', '’', 'ocean', '’', 'seen', '.', 'The', 'first', 'time', 'plunges', 'us', 'beneath', 'surface', 'Pandora', '’', 'big', 'blue', ',', 'brain', 'almost', '’', 'take', ':', 'images', 'crystal-sharp', ',', 'hyper-real', '—', 'see', '3D', 'HFR', '—', 'marine', 'ecosystem', 'teeming', 'every', 'frame', 'mesmerisingly', 'unearthly', '(', 'might', 'find', 'taking', 'eyes', 'important', 'stuff', 'stare', 'alien', 'eel', ')', '.', 'It', '’', 'like', 'National', 'Geographic', 'documentary', 'beamed', 'another', 'solar', 'system', ',', 'Cameron', '’', 'twin', 'obsessions', 'sea-life', 'sci-fi', 'fusing', 'together', 'truly', 'trippy', 'fashion', '.', 'The', 'lengthy', 'second', 'act', 'movie', ',', 'Sully', 'family', ',', 'fleeing', 'human', 'villains', ',', 'relocate', 'Bora', 'Bora-esque', 'shores', 'Pandoran', 'island', ',', 'likely', 'test', 'patience', '.', '(', 'There', 'multiple', 'fish-riding', 'tutorials', ',', 'Sullys', 'get', 'familiar', 'barracuda-meets-dragonfly', 'Skimwing', 'adorable', ',', 'seal-like', 'Iwi', '.', ')', 'But', 'willing', 'tune', 'strange', 'highly', 'earnest', 'vibe', ',', '’', 'heady', ',', 'entrancing', 'stuff', ',', 'particularly', 'screentime', 'given', 'Tulkan', ',', 'species', 'space-whale', 'proves', 'unexpectedly', 'moving', '—', 'even', 'drama', 'beach', 'little', 'less', 'compelling', '’', 'going', '.', 'Which', 'brings', 'us', 'plot', '.', 'Interestingly', ',', 'one', 'area', 'Cameron', 'gone', 'smaller', '.', 'Relatively', ',', 'course', ':', 'moon-crossing', 'odysseys', 'beasts', 'size', 'submarine', ',', '’', 'hardly', 'gone', 'Ken', 'Loach', '.', 'But', 'epic', 'warring-species', 'stakes', 'original', 'Avatar', 'dialled', '(', ')', ',', 'replaced', 'simple', 'revenge', 'story', '.', 'Stephen', 'Lang', '’', 'granite-tough', 'Colonel', 'Quaritch', ',', 'major', 'standout', 'first', 'film', 'character', 'deepened', ',', 'back', 'avatar', 'form', ',', 'eager', 'avenge', 'death', '(', '’', 'long', 'story', ')', 'slaying', 'blue', 'foes', '.', 'And', ',', 'bigger', 'questions', 'wait', '.', 'A', 'new', 'resource', 'coveted', 'humans', '’', 'even', 'unobtainable', 'unobtanium', '’', 'get', 'elaborated', ',', 'Edie', 'Falco', 'introduced', 'new', 'human', 'Big', 'Bad', '(', 'yes', ',', 'Carmela', 'Soprano', 'gets', 'exo-suit', ')', 'phases', 'action', '.', 'Instead', ',', '’', 'left', 'stripped-down', 'game', 'cat-and-mouse', ',', 'designed', 'test', 'every', 'one', 'Sullys', 'limits', '.', 'It', '’', 'effective', 'choice', 'Cameron', ',', 'keeping', 'stakes', 'clear', 'resulting', 'powerful', ',', 'emotional', 'final', 'hour', ',', 'Quaritch', 'corners', 'quarry', 'turns', 'heat', '.', 'The', 'Way', 'Of', 'Water', 'takes', 'sweet', 'time', 'getting', 'melee', '—', 'well', 'three', 'hours', ',', 'really', 'called', '‘', 'The', 'Way', 'Of', 'Wishing', 'You', 'Hadn', '’', 'Drunk', 'That', 'Water', '’', '—', 'time', ',', '’', 'made', 'sure', 'care', '’', 'going', '.', 'And', 'action', ',', 'arrives', ',', 'thunderingly', 'entertaining', '.', 'On', 'one', 'side', ':', 'Na', '’', 'vi', 'navy', ',', 'astride', 'battle-fish', ',', 'ululating', 'bristling', 'spears', '.', 'On', ',', 'Quaritch', 'blued-up', 'squad', 'Marines', ',', 'plus', 'swaggering', ',', 'dickish', 'Australian', 'seadog', 'named', 'Scoresby', '(', 'Brendan', 'Cowell', ',', 'near-stealing', 'show', 'salty', 'jargon', ')', ',', 'conflicted', 'marine', 'biologist', '(', 'Jemaine', 'Clement', ',', 'American', 'accent', 'might', 'alien', 'thing', 'film', ')', ',', 'armada', 'incredible', 'military', 'tech', '(', 'scuttling', 'crab-suits', 'FTW', ')', '.', 'What', 'ensues', 'sea', 'battle', 'ages', ',', 'blisteringly', 'exciting', 'meld', 'live-action', 'elements', 'visual-effects', ',', 'boggles', 'brain', 'never', 'forgetting', 'focus', 'heart', '.', 'Where', 'Cameron', 'goes', ',', 'knows', '.', 'But', 'reminder', ',', 'long', 'absence', ',', '’', 'still', 'master', 'commander', 'making', 'jaw', 'drop', '.']\n"
     ]
    }
   ],
   "source": [
    "# filtrem i eliminen les stopwords\n",
    "\n",
    "filtered_avatar = []\n",
    "\n",
    "for w in tokenized_word_avatar:\n",
    "    if w not in stop_words:\n",
    "        filtered_avatar.append(w)\n",
    "\n",
    "# print(\"Tokenized Sentence:\",tokenized_word)\n",
    "print(\"Filterd Sentence:\",filtered_avatar)"
   ]
  },
  {
   "cell_type": "code",
   "execution_count": 11,
   "id": "91750570",
   "metadata": {},
   "outputs": [
    {
     "name": "stdout",
     "output_type": "stream",
     "text": [
      "Filterd Sentence: ['Avatar', 'The', 'Way', 'Of', 'Water', 'Review', 'In', 'near-decade-and-a-half', 'since', 'last', 'visited', 'Pandora', 'humans', 'film', 'travelled', '4.4', 'light', 'years', 'back', 'Earth', 'regrouped', 'made', 'return', 'trip', 'built', 'new', 'city-sized', 'base', 'alien', 'moon', 'James', 'Cameron', 'busy', 'Besides', 'mapping', 'Lord', 'Of', 'The', 'Rings-sized', 'mythology', 'burgeoning', 'franchise', 'frankly', 'lost', 'count', 'many', 'Avatars', 'percolating', 'brain', 'point', 'think', '32', 'pushing', 'technological', 'envelopes', 'left', 'right', 'centre', 'stirring', 'mad', 'brew', 'aquatic', 'performance-capture', '3D', 'tech', 'amped-up', 'frame', 'rates', 'The', 'result', 'Avatar', 'The', 'Way', 'Of', 'Water', 'dazzling', 'behold', 'adjectives', 'like', 'dazzling', 'seem', 'anaemic', 'apply', 'It', 'leap', 'beyond', 'even', 'pulled', 'first', 'film', 'phantasmagorical', 'fully', 'immersive', 'waking', 'dream', 'movie', 'something', 'impossible', 'happening', 'on-screen', 'almost', 'every', 'moment', 'It', 'lot', 'process', 'And', 'timely', 'reminder', 'cinema', 'capable', 'dares', 'dream', 'big', 'Size', 'key', 'factor', 'sequel', 'law', 'movie', 'physics', 'dictates', 'follow-ups', 'must', 'get', 'increasingly', 'colossal', 'The', 'Way', 'Of', 'Water', 'ticks', 'box', 'several', 'ways', 'For', 'one', 'ensemble', 'characters', 'All', 'old', 'favourites', 'back', 'plus', 'Norm', 'Spellman', 'making', 'bow', 'group', 'azure', 'urchins', 'children', 'Neytiri', 'Zoe', 'Saldaña', 'Jake', 'Sam', 'Worthington', 'The', 'prospect', 'blockbuster', 'driven', 'kids', 'concerning', 'one', 'Cameron', 'though', 'manages', 'keep', 'things', 'right', 'side', 'saccharine', 'Even', 'none', 'younglings', 'quite', 'winning', 'Aliens', 'Newt', 'even', 'adopted', 'Spider', 'Jack', 'Champion', 'wild-child', 'human', 'space-sprog', 'brings', 'mind', 'easy', 'root', 'good', 'news', 'considering', 'second', 'act', 'movie', 'leaves', 'Jake', 'Neytiri', 'behind', 'venture', 'adventures', 'new', 'generation', 'The', 'titchy', 'Tuktirey', 'Trinity', 'Jo-Li', 'Bliss', 'get', 'much', 'substantial', 'storylines', 'Lo', 'ak', 'Britain', 'Dalton', 'finds', 'friend', 'unlikely', 'place', 'Kiri', 'Sigourney', 'Weaver', '70-something', 'playing', '14-year-old', 'VFX', 'magic', 'interesting', 'fresh', 'characters', 'appears', 'getting', 'set', 'become', 'major', 'player', 'future', 'instalments', 'Then', 'new', 'environment', 'As', 'probably', 'gleaned', 'Cameron', 'activated', 'key', 'mantra', 'add', 'water', 'returning', 'ocean', 'first', 'time', 'since', '1997', 'Titanic', 'Except', 'ocean', 'seen', 'The', 'first', 'time', 'plunges', 'us', 'beneath', 'surface', 'Pandora', 'big', 'blue', 'brain', 'almost', 'take', 'images', 'crystal-sharp', 'hyper-real', 'see', '3D', 'HFR', 'marine', 'ecosystem', 'teeming', 'every', 'frame', 'mesmerisingly', 'unearthly', 'might', 'find', 'taking', 'eyes', 'important', 'stuff', 'stare', 'alien', 'eel', 'It', 'like', 'National', 'Geographic', 'documentary', 'beamed', 'another', 'solar', 'system', 'Cameron', 'twin', 'obsessions', 'sea-life', 'sci-fi', 'fusing', 'together', 'truly', 'trippy', 'fashion', 'The', 'lengthy', 'second', 'act', 'movie', 'Sully', 'family', 'fleeing', 'human', 'villains', 'relocate', 'Bora', 'Bora-esque', 'shores', 'Pandoran', 'island', 'likely', 'test', 'patience', 'There', 'multiple', 'fish-riding', 'tutorials', 'Sullys', 'get', 'familiar', 'barracuda-meets-dragonfly', 'Skimwing', 'adorable', 'seal-like', 'Iwi', 'But', 'willing', 'tune', 'strange', 'highly', 'earnest', 'vibe', 'heady', 'entrancing', 'stuff', 'particularly', 'screentime', 'given', 'Tulkan', 'species', 'space-whale', 'proves', 'unexpectedly', 'moving', 'even', 'drama', 'beach', 'little', 'less', 'compelling', 'going', 'Which', 'brings', 'us', 'plot', 'Interestingly', 'one', 'area', 'Cameron', 'gone', 'smaller', 'Relatively', 'course', 'moon-crossing', 'odysseys', 'beasts', 'size', 'submarine', 'hardly', 'gone', 'Ken', 'Loach', 'But', 'epic', 'warring-species', 'stakes', 'original', 'Avatar', 'dialled', 'replaced', 'simple', 'revenge', 'story', 'Stephen', 'Lang', 'granite-tough', 'Colonel', 'Quaritch', 'major', 'standout', 'first', 'film', 'character', 'deepened', 'back', 'avatar', 'form', 'eager', 'avenge', 'death', 'long', 'story', 'slaying', 'blue', 'foes', 'And', 'bigger', 'questions', 'wait', 'A', 'new', 'resource', 'coveted', 'humans', 'even', 'unobtainable', 'unobtanium', 'get', 'elaborated', 'Edie', 'Falco', 'introduced', 'new', 'human', 'Big', 'Bad', 'yes', 'Carmela', 'Soprano', 'gets', 'exo-suit', 'phases', 'action', 'Instead', 'left', 'stripped-down', 'game', 'cat-and-mouse', 'designed', 'test', 'every', 'one', 'Sullys', 'limits', 'It', 'effective', 'choice', 'Cameron', 'keeping', 'stakes', 'clear', 'resulting', 'powerful', 'emotional', 'final', 'hour', 'Quaritch', 'corners', 'quarry', 'turns', 'heat', 'The', 'Way', 'Of', 'Water', 'takes', 'sweet', 'time', 'getting', 'melee', 'well', 'three', 'hours', 'really', 'called', 'The', 'Way', 'Of', 'Wishing', 'You', 'Hadn', 'Drunk', 'That', 'Water', 'time', 'made', 'sure', 'care', 'going', 'And', 'action', 'arrives', 'thunderingly', 'entertaining', 'On', 'one', 'side', 'Na', 'vi', 'navy', 'astride', 'battle-fish', 'ululating', 'bristling', 'spears', 'On', 'Quaritch', 'blued-up', 'squad', 'Marines', 'plus', 'swaggering', 'dickish', 'Australian', 'seadog', 'named', 'Scoresby', 'Brendan', 'Cowell', 'near-stealing', 'show', 'salty', 'jargon', 'conflicted', 'marine', 'biologist', 'Jemaine', 'Clement', 'American', 'accent', 'might', 'alien', 'thing', 'film', 'armada', 'incredible', 'military', 'tech', 'scuttling', 'crab-suits', 'FTW', 'What', 'ensues', 'sea', 'battle', 'ages', 'blisteringly', 'exciting', 'meld', 'live-action', 'elements', 'visual-effects', 'boggles', 'brain', 'never', 'forgetting', 'focus', 'heart', 'Where', 'Cameron', 'goes', 'knows', 'But', 'reminder', 'long', 'absence', 'still', 'master', 'commander', 'making', 'jaw', 'drop']\n"
     ]
    }
   ],
   "source": [
    "# Ha sortit ua mica brut perque encara queden els signes de puntuació\n",
    "# Fem un segon filtre amb els signes de puntuació\n",
    "\n",
    "filter2 = [':', ',', '.', '(', '’', ';', '?', ')', '‘',  '—']\n",
    "\n",
    "filtered2_avatar = []\n",
    "\n",
    "for w in filtered_avatar:\n",
    "    if w not in filter2:\n",
    "        filtered2_avatar.append(w)\n",
    "\n",
    "# print(\"Tokenized Sentence:\",tokenized_word)\n",
    "print(\"Filterd Sentence:\",filtered2_avatar)\n"
   ]
  },
  {
   "cell_type": "code",
   "execution_count": 12,
   "id": "36363d9a",
   "metadata": {},
   "outputs": [
    {
     "name": "stdout",
     "output_type": "stream",
     "text": [
      "<FreqDist with 479 samples and 597 outcomes>\n"
     ]
    }
   ],
   "source": [
    "# Calculem la frequencia de les paraules\n",
    "\n",
    "from nltk.probability import FreqDist\n",
    "\n",
    "fdist2_avatar = FreqDist(filtered2_avatar)\n",
    "print(fdist2_avatar)"
   ]
  },
  {
   "cell_type": "code",
   "execution_count": 13,
   "id": "7a617479",
   "metadata": {
    "scrolled": true
   },
   "outputs": [
    {
     "data": {
      "image/png": "[encoded data removed]",
      "text/plain": [
       "<Figure size 432x288 with 1 Axes>"
      ]
     },
     "metadata": {
      "needs_background": "light"
     },
     "output_type": "display_data"
    }
   ],
   "source": [
    "# Gràfic de distribució de frequencies\n",
    "import matplotlib.pyplot as plt\n",
    "\n",
    "fdist2_avatar.plot(30, cumulative=False)\n",
    "plt.show()"
   ]
  },
  {
   "cell_type": "code",
   "execution_count": 14,
   "id": "c4adb26d",
   "metadata": {},
   "outputs": [
    {
     "name": "stdout",
     "output_type": "stream",
     "text": [
      "Stemmed Sentence: ['avatar', 'the', 'way', 'of', 'water', 'review', 'in', 'near-decade-and-a-half', 'sinc', 'last', 'visit', 'pandora', 'human', 'film', 'travel', '4.4', 'light', 'year', 'back', 'earth', 'regroup', 'made', 'return', 'trip', 'built', 'new', 'city-s', 'base', 'alien', 'moon', 'jame', 'cameron', 'busi', 'besid', 'map', 'lord', 'of', 'the', 'rings-siz', 'mytholog', 'burgeon', 'franchis', 'frankli', 'lost', 'count', 'mani', 'avatar', 'percol', 'brain', 'point', 'think', '32', 'push', 'technolog', 'envelop', 'left', 'right', 'centr', 'stir', 'mad', 'brew', 'aquat', 'performance-captur', '3d', 'tech', 'amped-up', 'frame', 'rate', 'the', 'result', 'avatar', 'the', 'way', 'of', 'water', 'dazzl', 'behold', 'adject', 'like', 'dazzl', 'seem', 'anaem', 'appli', 'it', 'leap', 'beyond', 'even', 'pull', 'first', 'film', 'phantasmagor', 'fulli', 'immers', 'wake', 'dream', 'movi', 'someth', 'imposs', 'happen', 'on-screen', 'almost', 'everi', 'moment', 'it', 'lot', 'process', 'and', 'time', 'remind', 'cinema', 'capabl', 'dare', 'dream', 'big', 'size', 'key', 'factor', 'sequel', 'law', 'movi', 'physic', 'dictat', 'follow-up', 'must', 'get', 'increasingli', 'coloss', 'the', 'way', 'of', 'water', 'tick', 'box', 'sever', 'way', 'for', 'one', 'ensembl', 'charact', 'all', 'old', 'favourit', 'back', 'plu', 'norm', 'spellman', 'make', 'bow', 'group', 'azur', 'urchin', 'children', 'neytiri', 'zoe', 'saldaña', 'jake', 'sam', 'worthington', 'the', 'prospect', 'blockbust', 'driven', 'kid', 'concern', 'one', 'cameron', 'though', 'manag', 'keep', 'thing', 'right', 'side', 'saccharin', 'even', 'none', 'youngl', 'quit', 'win', 'alien', 'newt', 'even', 'adopt', 'spider', 'jack', 'champion', 'wild-child', 'human', 'space-sprog', 'bring', 'mind', 'easi', 'root', 'good', 'news', 'consid', 'second', 'act', 'movi', 'leav', 'jake', 'neytiri', 'behind', 'ventur', 'adventur', 'new', 'gener', 'the', 'titchi', 'tuktirey', 'triniti', 'jo-li', 'bliss', 'get', 'much', 'substanti', 'storylin', 'lo', 'ak', 'britain', 'dalton', 'find', 'friend', 'unlik', 'place', 'kiri', 'sigourney', 'weaver', '70-someth', 'play', '14-year-old', 'vfx', 'magic', 'interest', 'fresh', 'charact', 'appear', 'get', 'set', 'becom', 'major', 'player', 'futur', 'instal', 'then', 'new', 'environ', 'as', 'probabl', 'glean', 'cameron', 'activ', 'key', 'mantra', 'add', 'water', 'return', 'ocean', 'first', 'time', 'sinc', '1997', 'titan', 'except', 'ocean', 'seen', 'the', 'first', 'time', 'plung', 'us', 'beneath', 'surfac', 'pandora', 'big', 'blue', 'brain', 'almost', 'take', 'imag', 'crystal-sharp', 'hyper-r', 'see', '3d', 'hfr', 'marin', 'ecosystem', 'teem', 'everi', 'frame', 'mesmerisingli', 'unearthli', 'might', 'find', 'take', 'eye', 'import', 'stuff', 'stare', 'alien', 'eel', 'it', 'like', 'nation', 'geograph', 'documentari', 'beam', 'anoth', 'solar', 'system', 'cameron', 'twin', 'obsess', 'sea-lif', 'sci-fi', 'fuse', 'togeth', 'truli', 'trippi', 'fashion', 'the', 'lengthi', 'second', 'act', 'movi', 'sulli', 'famili', 'flee', 'human', 'villain', 'reloc', 'bora', 'bora-esqu', 'shore', 'pandoran', 'island', 'like', 'test', 'patienc', 'there', 'multipl', 'fish-rid', 'tutori', 'sulli', 'get', 'familiar', 'barracuda-meets-dragonfli', 'skimw', 'ador', 'seal-lik', 'iwi', 'but', 'will', 'tune', 'strang', 'highli', 'earnest', 'vibe', 'headi', 'entranc', 'stuff', 'particularli', 'screentim', 'given', 'tulkan', 'speci', 'space-whal', 'prove', 'unexpectedli', 'move', 'even', 'drama', 'beach', 'littl', 'less', 'compel', 'go', 'which', 'bring', 'us', 'plot', 'interestingli', 'one', 'area', 'cameron', 'gone', 'smaller', 'rel', 'cours', 'moon-cross', 'odyssey', 'beast', 'size', 'submarin', 'hardli', 'gone', 'ken', 'loach', 'but', 'epic', 'warring-speci', 'stake', 'origin', 'avatar', 'diall', 'replac', 'simpl', 'reveng', 'stori', 'stephen', 'lang', 'granite-tough', 'colonel', 'quaritch', 'major', 'standout', 'first', 'film', 'charact', 'deepen', 'back', 'avatar', 'form', 'eager', 'aveng', 'death', 'long', 'stori', 'slay', 'blue', 'foe', 'and', 'bigger', 'question', 'wait', 'a', 'new', 'resourc', 'covet', 'human', 'even', 'unobtain', 'unobtanium', 'get', 'elabor', 'edi', 'falco', 'introduc', 'new', 'human', 'big', 'bad', 'ye', 'carmela', 'soprano', 'get', 'exo-suit', 'phase', 'action', 'instead', 'left', 'stripped-down', 'game', 'cat-and-mous', 'design', 'test', 'everi', 'one', 'sulli', 'limit', 'it', 'effect', 'choic', 'cameron', 'keep', 'stake', 'clear', 'result', 'power', 'emot', 'final', 'hour', 'quaritch', 'corner', 'quarri', 'turn', 'heat', 'the', 'way', 'of', 'water', 'take', 'sweet', 'time', 'get', 'mele', 'well', 'three', 'hour', 'realli', 'call', 'the', 'way', 'of', 'wish', 'you', 'hadn', 'drunk', 'that', 'water', 'time', 'made', 'sure', 'care', 'go', 'and', 'action', 'arriv', 'thunderingli', 'entertain', 'on', 'one', 'side', 'na', 'vi', 'navi', 'astrid', 'battle-fish', 'ulul', 'bristl', 'spear', 'on', 'quaritch', 'blued-up', 'squad', 'marin', 'plu', 'swagger', 'dickish', 'australian', 'seadog', 'name', 'scoresbi', 'brendan', 'cowel', 'near-steal', 'show', 'salti', 'jargon', 'conflict', 'marin', 'biologist', 'jemain', 'clement', 'american', 'accent', 'might', 'alien', 'thing', 'film', 'armada', 'incred', 'militari', 'tech', 'scuttl', 'crab-suit', 'ftw', 'what', 'ensu', 'sea', 'battl', 'age', 'blisteringli', 'excit', 'meld', 'live-act', 'element', 'visual-effect', 'boggl', 'brain', 'never', 'forget', 'focu', 'heart', 'where', 'cameron', 'goe', 'know', 'but', 'remind', 'long', 'absenc', 'still', 'master', 'command', 'make', 'jaw', 'drop']\n"
     ]
    }
   ],
   "source": [
    "# Stemming\n",
    "from nltk.stem import PorterStemmer\n",
    "from nltk.tokenize import sent_tokenize, word_tokenize\n",
    "\n",
    "ps = PorterStemmer()\n",
    "\n",
    "stemmed_avatar = []\n",
    "for w in filtered2_avatar:\n",
    "    stemmed_avatar.append(ps.stem(w))\n",
    "\n",
    "print(\"Stemmed Sentence:\",stemmed_avatar)  "
   ]
  },
  {
   "cell_type": "code",
   "execution_count": 15,
   "id": "b7bc921d",
   "metadata": {},
   "outputs": [
    {
     "name": "stdout",
     "output_type": "stream",
     "text": [
      "<FreqDist with 455 samples and 597 outcomes>\n"
     ]
    }
   ],
   "source": [
    "# Calculem la frequencia de les paraules\n",
    "\n",
    "from nltk.probability import FreqDist\n",
    "\n",
    "fdist2_stemmed_avatar = FreqDist(stemmed_avatar)\n",
    "print(fdist2_stemmed_avatar)"
   ]
  },
  {
   "cell_type": "code",
   "execution_count": 16,
   "id": "e7b2279d",
   "metadata": {},
   "outputs": [
    {
     "data": {
      "image/png": "[encoded data removed]",
      "text/plain": [
       "<Figure size 432x288 with 1 Axes>"
      ]
     },
     "metadata": {
      "needs_background": "light"
     },
     "output_type": "display_data"
    }
   ],
   "source": [
    "# Gràfic de distribució de frequencies\n",
    "import matplotlib.pyplot as plt\n",
    "\n",
    "fdist2_stemmed_avatar.plot(30, cumulative=False)\n",
    "plt.show()"
   ]
  },
  {
   "cell_type": "markdown",
   "id": "b85d4539",
   "metadata": {},
   "source": [
    "### - Exercici 3\n",
    "\n",
    "Realitza sentiment analysis al teu conjunt de dades."
   ]
  },
  {
   "cell_type": "markdown",
   "id": "fdac8da6",
   "metadata": {},
   "source": [
    "### Fent servir TextBlob"
   ]
  },
  {
   "cell_type": "code",
   "execution_count": 17,
   "id": "2c30b440",
   "metadata": {},
   "outputs": [],
   "source": [
    "from textblob import TextBlob"
   ]
  },
  {
   "cell_type": "code",
   "execution_count": 18,
   "id": "f29ef103",
   "metadata": {},
   "outputs": [],
   "source": [
    "# Calculem el TextBlob score per la critica de la pel·licula Avatar\n",
    "blob_avatar = TextBlob(Avatar)\n",
    "sentiment_avatar = blob_avatar.sentiment.polarity # va des de +1 (molt positiu) fins -1 (molt negatiu)"
   ]
  },
  {
   "cell_type": "code",
   "execution_count": 19,
   "id": "15466ecf",
   "metadata": {},
   "outputs": [],
   "source": [
    "# Per poder comparar farem servir un segon text, on es mostra un crítica clarament negativa\n",
    "\n",
    "Avatar_neg = \"\"\"\n",
    "Avatar: The Way of Water review – a soggy, twee, trillion-dollar screensaver\n",
    "Drenching us with a disappointment that can hardly be admitted out loud, James Cameron’s soggy new digitised film has beached like a massive, pointless whale. The story, which might fill a 30-minute cartoon, is stretched as if by some AI program into a three-hour movie of epic tweeness.\n",
    "The first Avatar was a pioneering 3D sci-fi spectacular which Cameron delivered in 2009. Now, after 13 years of unimaginably expensive pixel-crunching, the aquatic followup has arrived, with a third and a fourth on the way. This one is available in 3D and 2D, and so at any rate keeping loyal to that three-dimensional vision that Cameron almost single-handedly revived but which the rest of the industry has quietly forgotten about. Yet the whole idea of the “avatar” from the first movie – the artificially created body that can be remotely piloted into an unknown world and which crucially formed a dramatic part of the audience’s 3D experience – has been left behind.\n",
    "The effects now, technically impressive as they are, amount to high frame-rate motion smoothness which is soulless and inert, creating not so much an uncanny valley but an uncanny Mariana Trench down in the depths. Cameron’s undersea world is like a trillion-dollar screensaver. Where is the oceanic passion and jeopardy of great Cameron movies such as Titanic or The Abyss?\n",
    "The situation is that ex-human Jake Sully (Sam Worthington) is committed to the Na’vi body he assumed when insinuating himself among the blue-bodied, pointy-eared tribe as part of the “avatar” strategy in the first film, before falling in love with dynamic warrior Neytiri (Zoe Saldaña) and siding with her people against the humans who would exploit the Na’vi’s mineral resources. Now, some years later, Sully and Neytiri are living happily with their children and their stepdaughter Kiri – whose connection with the original film soon becomes apparent – and also a semi-feral human kid called Spider.\n",
    "But just when they thought they were happy, the “sky people” of planet Earth reappear and there is an admittedly ingenious twist concerning the gung-ho marine colonel Miles Quaritch, memorably played by Stephen Lang. Sully’s family have to leave their rainforest habitat and hide away among the far-off Metkayina, an amphibious reef people led by Ronal (Kate Winslet) and Tonowari (Cliff Curtis). There they must learn the mystical Metkayina art of existing for long periods underwater. Sully’s children and Tonowari’s children, at first spiky and rivalrous, become as close as cousins. But this new Eden can’t last forever either.\n",
    "The submarine world of this film is, in its way, its chief character and its whole point. The move from land- to sea-based existence is the way a new film was created. But the sea world is imagined with a lot of cliche. Frankly, there isn’t a single interesting visual image and the whole thing has the non-briny smell of a MacBook Pro. Finding Nemo was more vivid.\n",
    "And what do we find aside from the high-tech visual superstructure? The floatingly bland plot is like a children’s story without the humour; a YA story without the emotional wound; an action thriller without the hard edge of real excitement.\n",
    "\n",
    "\"\"\""
   ]
  },
  {
   "cell_type": "code",
   "execution_count": 20,
   "id": "387bb943",
   "metadata": {},
   "outputs": [
    {
     "name": "stdout",
     "output_type": "stream",
     "text": [
      "\n",
      "Avatar: The Way of Water review – a soggy, twee, trillion-dollar screensaver\n",
      "Drenching us with a disappointment that can hardly be admitted out loud, James Cameron’s soggy new digitised film has beached like a massive, pointless whale. The story, which might fill a 30-minute cartoon, is stretched as if by some AI program into a three-hour movie of epic tweeness.\n",
      "The first Avatar was a pioneering 3D sci-fi spectacular which Cameron delivered in 2009. Now, after 13 years of unimaginably expensive pixel-crunching, the aquatic followup has arrived, with a third and a fourth on the way. This one is available in 3D and 2D, and so at any rate keeping loyal to that three-dimensional vision that Cameron almost single-handedly revived but which the rest of the industry has quietly forgotten about. Yet the whole idea of the “avatar” from the first movie – the artificially created body that can be remotely piloted into an unknown world and which crucially formed a dramatic part of the audience’s 3D experience – has been left behind.\n",
      "The effects now, technically impressive as they are, amount to high frame-rate motion smoothness which is soulless and inert, creating not so much an uncanny valley but an uncanny Mariana Trench down in the depths. Cameron’s undersea world is like a trillion-dollar screensaver. Where is the oceanic passion and jeopardy of great Cameron movies such as Titanic or The Abyss?\n",
      "The situation is that ex-human Jake Sully (Sam Worthington) is committed to the Na’vi body he assumed when insinuating himself among the blue-bodied, pointy-eared tribe as part of the “avatar” strategy in the first film, before falling in love with dynamic warrior Neytiri (Zoe Saldaña) and siding with her people against the humans who would exploit the Na’vi’s mineral resources. Now, some years later, Sully and Neytiri are living happily with their children and their stepdaughter Kiri – whose connection with the original film soon becomes apparent – and also a semi-feral human kid called Spider.\n",
      "But just when they thought they were happy, the “sky people” of planet Earth reappear and there is an admittedly ingenious twist concerning the gung-ho marine colonel Miles Quaritch, memorably played by Stephen Lang. Sully’s family have to leave their rainforest habitat and hide away among the far-off Metkayina, an amphibious reef people led by Ronal (Kate Winslet) and Tonowari (Cliff Curtis). There they must learn the mystical Metkayina art of existing for long periods underwater. Sully’s children and Tonowari’s children, at first spiky and rivalrous, become as close as cousins. But this new Eden can’t last forever either.\n",
      "The submarine world of this film is, in its way, its chief character and its whole point. The move from land- to sea-based existence is the way a new film was created. But the sea world is imagined with a lot of cliche. Frankly, there isn’t a single interesting visual image and the whole thing has the non-briny smell of a MacBook Pro. Finding Nemo was more vivid.\n",
      "And what do we find aside from the high-tech visual superstructure? The floatingly bland plot is like a children’s story without the humour; a YA story without the emotional wound; an action thriller without the hard edge of real excitement.\n",
      "\n",
      "\n"
     ]
    }
   ],
   "source": [
    "print(Avatar_neg)"
   ]
  },
  {
   "cell_type": "code",
   "execution_count": 21,
   "id": "af6d3153",
   "metadata": {},
   "outputs": [],
   "source": [
    "# Ara calculem per la crítica negativa\n",
    "blob_avatar_neg = TextBlob(Avatar_neg)\n",
    "sentiment_avatar_neg = blob_avatar_neg.sentiment.polarity # va des de +1 (molt positiu) fins -1 (molt negatiu)"
   ]
  },
  {
   "cell_type": "code",
   "execution_count": 22,
   "id": "f09f201f",
   "metadata": {},
   "outputs": [
    {
     "name": "stdout",
     "output_type": "stream",
     "text": [
      "El review positiu (Avatar) dona un score blob de: 0.113\n",
      "El review negatiu (Avatar_neg) dona un score blob de: 0.110\n"
     ]
    }
   ],
   "source": [
    "# Comparem els resultats\n",
    "print('El review positiu (Avatar) dona un score blob de: %.3f' % (sentiment_avatar))\n",
    "print('El review negatiu (Avatar_neg) dona un score blob de: %.3f' % (sentiment_avatar_neg))"
   ]
  },
  {
   "cell_type": "markdown",
   "id": "7ab918ce",
   "metadata": {},
   "source": [
    "#### Comentari: \n",
    "Hi ha una diferència: el negatiu surt més petit, però és mínima."
   ]
  },
  {
   "cell_type": "markdown",
   "id": "13482445",
   "metadata": {},
   "source": [
    "### Sentiment analysis fent servir VADER"
   ]
  },
  {
   "cell_type": "code",
   "execution_count": 23,
   "id": "e367921b",
   "metadata": {},
   "outputs": [
    {
     "name": "stderr",
     "output_type": "stream",
     "text": [
      "[nltk_data] Downloading package vader_lexicon to\n",
      "[nltk_data]     C:\\Users\\PabloiMerce\\AppData\\Roaming\\nltk_data...\n",
      "[nltk_data]   Package vader_lexicon is already up-to-date!\n"
     ]
    }
   ],
   "source": [
    "import nltk\n",
    "\n",
    "from nltk.sentiment import SentimentIntensityAnalyzer\n",
    "# from tqdm.notebook import tqdm\n",
    "\n",
    "nltk.download('vader_lexicon')\n",
    "\n",
    "sia = SentimentIntensityAnalyzer()"
   ]
  },
  {
   "cell_type": "code",
   "execution_count": 24,
   "id": "63b64f89",
   "metadata": {},
   "outputs": [
    {
     "name": "stdout",
     "output_type": "stream",
     "text": [
      "VADER score Avatar: {'neg': 0.039, 'neu': 0.855, 'pos': 0.106, 'compound': 0.9968}\n",
      "VADER score Avatar_neg: {'neg': 0.036, 'neu': 0.836, 'pos': 0.128, 'compound': 0.9952}\n"
     ]
    }
   ],
   "source": [
    "print('VADER score Avatar:',sia.polarity_scores(Avatar))\n",
    "print('VADER score Avatar_neg:',sia.polarity_scores(Avatar_neg))"
   ]
  },
  {
   "cell_type": "markdown",
   "id": "59baa1cf",
   "metadata": {},
   "source": [
    "#### Comentari:\n",
    "No ha sortit gaire diferencia. De fet sembla que la crítica positiva ha sortit pitjor que la negativa"
   ]
  },
  {
   "cell_type": "markdown",
   "id": "ee7fbd85",
   "metadata": {},
   "source": [
    "### Ens centrem en el paragraf més rellevant\n",
    "Repetirem l'analisi fent servir només el paragraf \"core\" on s'indica més clarament l'opinio del reviewer"
   ]
  },
  {
   "cell_type": "code",
   "execution_count": 25,
   "id": "28e88f9c",
   "metadata": {},
   "outputs": [],
   "source": [
    "Avatar_core = \"\"\"\n",
    "The Way Of Water takes its sweet time getting to the melee — at well over three hours, it should really be called ‘The Way Of Wishing You Hadn’t Drunk That Water’ — but by the time it does, it’s made sure you care about what’s going on. And the action, when it arrives, is thunderingly entertaining. On one side: the Na’vi navy, astride battle-fish, ululating and bristling with spears. On the other, Quaritch and his blued-up squad of Marines, plus a swaggering, dickish Australian seadog named Scoresby (Brendan Cowell, near-stealing the show with his salty jargon), a conflicted marine biologist (Jemaine Clement, doing an American accent that might be the most alien thing in the film), and an armada of incredible military tech (scuttling crab-suits FTW). What ensues is a sea battle for the ages, a blisteringly exciting meld of live-action elements and visual-effects, which boggles the brain while never forgetting to focus on the heart. Where Cameron goes from here, who knows. But this is a reminder, after a long absence, that he’s still master and commander of making your jaw drop.\n",
    "\"\"\""
   ]
  },
  {
   "cell_type": "code",
   "execution_count": 26,
   "id": "3376d79f",
   "metadata": {},
   "outputs": [],
   "source": [
    "Avatar_neg_core = \"\"\"\n",
    "Drenching us with a disappointment that can hardly be admitted out loud, James Cameron’s soggy new digitised film has beached like a massive, pointless whale. The story, which might fill a 30-minute cartoon, is stretched as if by some AI program into a three-hour movie of epic tweeness.\n",
    "\"\"\""
   ]
  },
  {
   "cell_type": "code",
   "execution_count": 27,
   "id": "7aea78a2",
   "metadata": {},
   "outputs": [
    {
     "name": "stdout",
     "output_type": "stream",
     "text": [
      "VADER score Avatar core: {'neg': 0.04, 'neu': 0.855, 'pos': 0.105, 'compound': 0.9127}\n",
      "VADER score Avatar_neg core: {'neg': 0.069, 'neu': 0.856, 'pos': 0.076, 'compound': -0.1725}\n"
     ]
    }
   ],
   "source": [
    "print('VADER score Avatar core:',sia.polarity_scores(Avatar_core))\n",
    "print('VADER score Avatar_neg core:',sia.polarity_scores(Avatar_neg_core))"
   ]
  },
  {
   "cell_type": "markdown",
   "id": "53e5cdc8",
   "metadata": {},
   "source": [
    "### Repetim l'analisi TextBlob\n",
    "Ara fent servir només el text \"core\""
   ]
  },
  {
   "cell_type": "code",
   "execution_count": 28,
   "id": "a1fdd69b",
   "metadata": {},
   "outputs": [
    {
     "name": "stdout",
     "output_type": "stream",
     "text": [
      "El review positiu (Avatar_core) dona un score blob de: 0.145\n",
      "El review negatiu (Avatar_neg_core) dona un score blob de: -0.107\n"
     ]
    }
   ],
   "source": [
    "blob_avatar_core = TextBlob(Avatar_core)\n",
    "sentiment_avatar_core = blob_avatar_core.sentiment.polarity\n",
    "\n",
    "blob_avatar_neg_core = TextBlob(Avatar_neg_core)\n",
    "sentiment_avatar_neg_core = blob_avatar_neg_core.sentiment.polarity # va des de +1 (molt positiu) fins -1 (molt negatiu)\n",
    "\n",
    "\n",
    "print('El review positiu (Avatar_core) dona un score blob de: %.3f' % (sentiment_avatar_core))\n",
    "print('El review negatiu (Avatar_neg_core) dona un score blob de: %.3f' % (sentiment_avatar_neg_core))"
   ]
  },
  {
   "cell_type": "markdown",
   "id": "6e81c151",
   "metadata": {},
   "source": [
    "#### Comentari:\n",
    "Fent servir únicament el paragraf que conté les opinions s'obtenen uns resultats molt millors, especialment en el cas del VADER score."
   ]
  },
  {
   "cell_type": "markdown",
   "id": "4354889f",
   "metadata": {},
   "source": [
    "### Roberta model\n",
    "El problema de VADER i TextBlob es que només tenen en compte les paraules separades, sense tenir el contexte.  \n",
    "Però el contexte es important i per això farem servir un model ja previament entrenat: Roberta model"
   ]
  },
  {
   "cell_type": "code",
   "execution_count": 29,
   "id": "7a06a7e3",
   "metadata": {},
   "outputs": [],
   "source": [
    "from transformers import AutoTokenizer\n",
    "from transformers import AutoModelForSequenceClassification\n",
    "from scipy.special import softmax"
   ]
  },
  {
   "cell_type": "code",
   "execution_count": 30,
   "id": "ad0fe8e6",
   "metadata": {},
   "outputs": [],
   "source": [
    "import torch"
   ]
  },
  {
   "cell_type": "code",
   "execution_count": 31,
   "id": "7548a35a",
   "metadata": {},
   "outputs": [],
   "source": [
    "# Carreguem el Roberta model\n",
    "\n",
    "MODEL = f\"cardiffnlp/twitter-roberta-base-sentiment\"\n",
    "tokenizer = AutoTokenizer.from_pretrained(MODEL)\n",
    "model = AutoModelForSequenceClassification.from_pretrained(MODEL)"
   ]
  },
  {
   "cell_type": "code",
   "execution_count": 32,
   "id": "b2f5459f",
   "metadata": {},
   "outputs": [
    {
     "name": "stdout",
     "output_type": "stream",
     "text": [
      "{'neg': 0.05228591, 'neu': 0.3903052, 'pos': 0.557409}\n"
     ]
    }
   ],
   "source": [
    "# Fem servir el Roberta Model per la crítica positiva\n",
    "encoded_text = tokenizer(Avatar_core, return_tensors='pt')\n",
    "output = model(**encoded_text)\n",
    "scores = output[0][0].detach().numpy()\n",
    "scores = softmax(scores)\n",
    "scores_dict = {\n",
    "    'neg' : scores[0],\n",
    "    'neu' : scores[1],\n",
    "    'pos' : scores[2]\n",
    "}\n",
    "print(scores_dict)"
   ]
  },
  {
   "cell_type": "code",
   "execution_count": 33,
   "id": "5248b59c",
   "metadata": {},
   "outputs": [
    {
     "name": "stdout",
     "output_type": "stream",
     "text": [
      "{'neg': 0.8465971, 'neu': 0.13050663, 'pos': 0.02289636}\n"
     ]
    }
   ],
   "source": [
    "# I ara per la crítica negativa\n",
    "encoded_text = tokenizer(Avatar_neg_core, return_tensors='pt')\n",
    "output = model(**encoded_text)\n",
    "scores = output[0][0].detach().numpy()\n",
    "scores = softmax(scores)\n",
    "scores_dict = {\n",
    "    'neg' : scores[0],\n",
    "    'neu' : scores[1],\n",
    "    'pos' : scores[2]\n",
    "}\n",
    "print(scores_dict)"
   ]
  },
  {
   "cell_type": "markdown",
   "id": "f9ae2540",
   "metadata": {},
   "source": [
    "#### Comentari final:\n",
    "\n",
    "Al fer servir el model pre-trained, el Roberta model, molt dels resultats que es consideraven neutres al VADER, ara poden ser classificats com a positius o com a negatius. Això fa que els resultats siguin molt mes concluents:\n",
    "\n",
    "**Avatar (crítica positiva)**  \n",
    "- Roberta scores {'neg': 0.052, 'neu': 0.390, 'pos': **0.557**}  \n",
    "- VADER score .     {'neg': 0.040, 'neu': 0.855, 'pos': **0.105**, 'compound': 0.9127}  \n",
    "  \n",
    "**Avatar (crítica negativa)**  \n",
    "- Roberta scores {'neg': **0.847**, 'neu': 0.131, 'pos': 0.023}  \n",
    "- VADER score .     {'neg': **0.069**, 'neu': 0.856, 'pos': 0.076, 'compound': -0.1725}  \n",
    "\n"
   ]
  }
 ],
 "metadata": {
  "kernelspec": {
   "display_name": "Python 3 (ipykernel)",
   "language": "python",
   "name": "python3"
  },
  "language_info": {
   "codemirror_mode": {
    "name": "ipython",
    "version": 3
   },
   "file_extension": ".py",
   "mimetype": "text/x-python",
   "name": "python",
   "nbconvert_exporter": "python",
   "pygments_lexer": "ipython3",
   "version": "3.9.7"
  }
 },
 "nbformat": 4,
 "nbformat_minor": 5
}
